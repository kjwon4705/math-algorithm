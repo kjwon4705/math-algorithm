{
 "cells": [
  {
   "cell_type": "code",
   "execution_count": 84,
   "id": "59c0900f",
   "metadata": {},
   "outputs": [],
   "source": [
    "import numpy as np\n",
    "import pandas as pd\n",
    "import random\n",
    "import matplotlib.pyplot as plt\n",
    "\n",
    "def sigmoid(x):\n",
    "    y = 1 / (1 + np.exp(-x))\n",
    "    \n",
    "    return(y)"
   ]
  },
  {
   "cell_type": "markdown",
   "id": "e1e9b9d7",
   "metadata": {},
   "source": [
    "# BackpropXOR"
   ]
  },
  {
   "cell_type": "code",
   "execution_count": 109,
   "id": "5b14c5a4",
   "metadata": {},
   "outputs": [],
   "source": [
    "def BackpropXOR(w1,w2,x,d):\n",
    "    alpha = 0.9\n",
    "    n = 4\n",
    "\n",
    "    for i in range(n):\n",
    "        alpha = 0.9\n",
    "\n",
    "        # 입력 데이터\n",
    "        x_k = x[i]\n",
    "\n",
    "        # 정답\n",
    "        ans = d[i]\n",
    "\n",
    "        # 입력층 계산값\n",
    "        v1 = np.dot(w1, x_k)\n",
    "        y1 = sigmoid(v1)\n",
    "\n",
    "\n",
    "        v = np.dot(w2,y1)\n",
    "        y = sigmoid(v)\n",
    "\n",
    "\n",
    "        # 오차\n",
    "        e = ans - y\n",
    "        delta = y * (1-y) * e\n",
    "\n",
    "        e1 = np.dot(w2.T, delta)\n",
    "        delta1 = y1 * (1-y1) * e1\n",
    "\n",
    "        dw1 = alpha * np.dot(np.array([delta1]).T, np.array([x_k]))\n",
    "        w1 = w1 + dw1\n",
    "\n",
    "        dw2 = alpha * np.dot(np.array([delta]), np.array([y1]))\n",
    "        w2 = w2 + dw2\n",
    "\n",
    "   \n",
    "    return(e, w1, w2)"
   ]
  },
  {
   "cell_type": "code",
   "execution_count": 146,
   "id": "6d5040ab",
   "metadata": {},
   "outputs": [
    {
     "name": "stdout",
     "output_type": "stream",
     "text": [
      "[0.01015535 0.98977815 0.98985183 0.00896261]\n"
     ]
    }
   ],
   "source": [
    "# Input\n",
    "x = np.array([[0,0,1],[0,1,1],[1,0,1],[1,1,1]])\n",
    "\n",
    "# correct answer\n",
    "d = [0,1,1,0]\n",
    "\n",
    "# Weight\n",
    "w1 = 2 * np.random.rand(4, 3) - 1\n",
    "w2 = 2 * np.random.rand(1, 4) - 1\n",
    "\n",
    "for epoch in range(10000):\n",
    "    w1, w2 = BackpropXOR(w1,w2,x,d)\n",
    "    \n",
    "predict = np.array([])\n",
    "\n",
    "n = 4\n",
    "for i in range(n):\n",
    "    v1 = np.dot(w1,x[i])\n",
    "    y1 = sigmoid(v1)\n",
    "    v = np.dot(w2,y1)\n",
    "    y = sigmoid(v)\n",
    "    predict = np.append(predict,y)\n",
    "    \n",
    "\n",
    "print(predict)"
   ]
  },
  {
   "cell_type": "markdown",
   "id": "927019d7",
   "metadata": {},
   "source": [
    "# Momemtum"
   ]
  },
  {
   "cell_type": "code",
   "execution_count": 6,
   "id": "482ccc86",
   "metadata": {},
   "outputs": [],
   "source": [
    "def BackpropMmt(W1, W2, X, D):\n",
    "    alpha = 0.9\n",
    "    beta = 0.9\n",
    "    mmt1 = np.zeros_like(W1)\n",
    "    mmt2 = np.zeros_like(W2)\n",
    "    n = 4\n",
    "\n",
    "    for k in range(n):\n",
    "        # 입력값\n",
    "        x = X[k, :].reshape(-1, 1)\n",
    "        d = D[k]\n",
    "        \n",
    "        # 예측값\n",
    "        v1 = np.dot(W1, x)\n",
    "        y1 = sigmoid(v1)\n",
    "        v = np.dot(W2, y1)\n",
    "        y = sigmoid(v)\n",
    "        \n",
    "        # 역전파 과정\n",
    "        e = d - y\n",
    "        delta = y * (1 - y) * e\n",
    "        e1 = np.dot(W2.T, delta)\n",
    "        delta1 = y1 * (1 - y1) * e1\n",
    "        dW1 = alpha * np.dot(delta1, x.T)\n",
    "        \n",
    "        # 가중치 수정\n",
    "        mmt1 = dW1 + beta * mmt1\n",
    "        W1 = W1 + mmt1\n",
    "        dW2 = alpha * np.dot(delta, y1.T)\n",
    "        mmt2 = dW2 + beta * mmt2\n",
    "        W2 = W2 + mmt2\n",
    "\n",
    "    return W1, W2"
   ]
  },
  {
   "cell_type": "code",
   "execution_count": 7,
   "id": "af977e6b",
   "metadata": {},
   "outputs": [
    {
     "name": "stdout",
     "output_type": "stream",
     "text": [
      "[0.0037602  0.99531259 0.99382625 0.01181961]\n"
     ]
    }
   ],
   "source": [
    "# Input\n",
    "x = np.array([[0,0,1],[0,1,1],[1,0,1],[1,1,1]])\n",
    "\n",
    "# correct answer\n",
    "d = [0,1,1,0]\n",
    "\n",
    "# Weight\n",
    "w1 = 2 * np.random.rand(4, 3) - 1\n",
    "w2 = 2 * np.random.rand(1, 4) - 1\n",
    "\n",
    "\n",
    "for epoch in range(10000):\n",
    "    w1, w2 = BackpropMmt(w1,w2,x,d)\n",
    "    \n",
    "predict = np.array([])\n",
    "\n",
    "n = 4\n",
    "for i in range(n):\n",
    "    v1 = np.dot(w1,x[i])\n",
    "    y1 = sigmoid(v1)\n",
    "    v = np.dot(w2,y1)\n",
    "    y = sigmoid(v)\n",
    "    predict = np.append(predict,y)\n",
    "    \n",
    "\n",
    "print(predict)"
   ]
  },
  {
   "cell_type": "markdown",
   "id": "a412ee76",
   "metadata": {},
   "source": [
    "# BackpropCE"
   ]
  },
  {
   "cell_type": "code",
   "execution_count": 95,
   "id": "963fbe5e",
   "metadata": {},
   "outputs": [],
   "source": [
    "def BackpropCE(W1, W2, X, D):\n",
    "    alpha = 0.9\n",
    "    N = 4\n",
    "\n",
    "    for k in range(N):\n",
    "        \n",
    "        # 입력값\n",
    "        x = X[k, :].reshape(-1, 1)\n",
    "        d = D[k]\n",
    "        \n",
    "        # 예측값\n",
    "        v1 = np.dot(W1, x)\n",
    "        y1 = sigmoid(v1)\n",
    "        v = np.dot(W2, y1)\n",
    "        y = sigmoid(v)\n",
    "        \n",
    "        # 역전파 \n",
    "        e = d - y\n",
    "        delta = e\n",
    "        e1 = np.dot(W2.T, delta)\n",
    "        delta1 = y1 * (1 - y1) * e1\n",
    "        dW1 = alpha * np.dot(delta1, x.T)\n",
    "        W1 = W1 + dW1\n",
    "        dW2 = alpha * np.dot(delta, y1.T)\n",
    "        W2 = W2 + dW2\n",
    "\n",
    "    return W1, W2"
   ]
  },
  {
   "cell_type": "code",
   "execution_count": 96,
   "id": "b91c1851",
   "metadata": {},
   "outputs": [
    {
     "name": "stdout",
     "output_type": "stream",
     "text": [
      "[1.85632755e-04 9.99723424e-01 9.99893624e-01 3.17921342e-04]\n"
     ]
    }
   ],
   "source": [
    "# Input\n",
    "x = np.array([[0,0,1],[0,1,1],[1,0,1],[1,1,1]])\n",
    "\n",
    "# correct answer\n",
    "d = [0,1,1,0]\n",
    "\n",
    "# Weight\n",
    "w1 = 2 * np.random.rand(4, 3) - 1\n",
    "w2 = 2 * np.random.rand(1, 4) - 1\n",
    "\n",
    "\n",
    "for epoch in range(10000):\n",
    "    w1, w2 = BackpropCE(w1,w2,x,d)\n",
    "    \n",
    "predict = np.array([])\n",
    "\n",
    "n = 4\n",
    "for i in range(n):\n",
    "    v1 = np.dot(w1,x[i])\n",
    "    y1 = sigmoid(v1)\n",
    "    v = np.dot(w2,y1)\n",
    "    y = sigmoid(v)\n",
    "    predict = np.append(predict,y)\n",
    "    \n",
    "\n",
    "print(predict)"
   ]
  },
  {
   "cell_type": "markdown",
   "id": "77af9e1f",
   "metadata": {},
   "source": [
    "# Compare of Cost function"
   ]
  },
  {
   "cell_type": "code",
   "execution_count": 145,
   "id": "d75e2770",
   "metadata": {},
   "outputs": [
    {
     "data": {
      "image/png": "[encoded data removed]",
      "text/plain": [
       "<Figure size 432x288 with 1 Axes>"
      ]
     },
     "metadata": {
      "needs_background": "light"
     },
     "output_type": "display_data"
    }
   ],
   "source": [
    "# Input\n",
    "x = np.array([[0,0,1],[0,1,1],[1,0,1],[1,1,1]])\n",
    "\n",
    "# correct answer\n",
    "d = [0,1,1,0]\n",
    "\n",
    "# Weight\n",
    "w11 = 2 * np.random.rand(4, 3) - 1\n",
    "w12 = 2 * np.random.rand(1, 4) - 1\n",
    "w21 = w11.copy()\n",
    "w22 = w12.copy()\n",
    "\n",
    "\n",
    "E1 = np.zeros(10000)\n",
    "E2 = np.zeros(10000)\n",
    "\n",
    "# Weight\n",
    "\n",
    "for epoch in range(10000):\n",
    "    w11, w12 = BackpropCE(w11,w12,x,d)\n",
    "    w21, w22 = BackpropXOR(w21,w22,x,d)\n",
    "    \n",
    "    \n",
    "    es1 = 0\n",
    "    es2 = 0\n",
    "    n = 4\n",
    "    \n",
    "    for i in range(n):\n",
    "        x_i = x[i, :].reshape(-1,1)\n",
    "        d_i = d[i]\n",
    "        \n",
    "        v1 = np.dot(w11,x_i)\n",
    "        y1 = sigmoid(v1)\n",
    "        v = np.dot(w12, y1)\n",
    "        y = sigmoid(v)\n",
    "        es1 = es1 + (d_i - y) * (d_i - y)\n",
    "        \n",
    "        vv1 = np.dot(w21,x_i)\n",
    "        yy1 = sigmoid(vv1)\n",
    "        vv = np.dot(w22, yy1)\n",
    "        yy = sigmoid(vv)\n",
    "        es2 = es2 + (d_i - yy) * (d_i - yy)\n",
    "    \n",
    "    E1[epoch] = es1 / n\n",
    "    E2[epoch] = es2 / n\n",
    "\n",
    "    \n",
    "plt.plot(range(10000), E1, range(10000), E2)\n",
    "plt.legend(['Cross Entropy', 'Sum of Square Error'])\n",
    "plt.show()"
   ]
  },
  {
   "cell_type": "code",
   "execution_count": null,
   "id": "39c9beeb",
   "metadata": {},
   "outputs": [],
   "source": []
  }
 ],
 "metadata": {
  "kernelspec": {
   "display_name": "Python 3",
   "language": "python",
   "name": "python3"
  },
  "language_info": {
   "codemirror_mode": {
    "name": "ipython",
    "version": 3
   },
   "file_extension": ".py",
   "mimetype": "text/x-python",
   "name": "python",
   "nbconvert_exporter": "python",
   "pygments_lexer": "ipython3",
   "version": "3.8.8"
  }
 },
 "nbformat": 4,
 "nbformat_minor": 5
}
