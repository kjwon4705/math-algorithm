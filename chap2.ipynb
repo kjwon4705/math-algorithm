{
 "cells": [
  {
   "cell_type": "code",
   "execution_count": 1,
   "id": "089cde6a",
   "metadata": {},
   "outputs": [],
   "source": [
    "import numpy as np\n",
    "import pandas as pd\n",
    "import random\n",
    "import matplotlib.pyplot as plt\n",
    "\n",
    "def sigmoid(x):\n",
    "    return 1 / (1 + np.exp(-x))"
   ]
  },
  {
   "cell_type": "markdown",
   "id": "a84fbe31",
   "metadata": {},
   "source": [
    "# DeltaSGD"
   ]
  },
  {
   "cell_type": "code",
   "execution_count": 209,
   "id": "2dffad00",
   "metadata": {},
   "outputs": [],
   "source": [
    "def DeltaSGD(w2,x,d):\n",
    "    n = 4\n",
    "    dwsum = np.array([0,0,0], float)\n",
    "    for i in range(n):\n",
    "        alpha = 0.9\n",
    "\n",
    "        # 입력 데이터\n",
    "        ind = x[i]\n",
    "\n",
    "        # 정답\n",
    "        ans = d[i]\n",
    "\n",
    "        # 가중치 * 입력값\n",
    "        v = np.dot(w2,ind)\n",
    "\n",
    "        # 예측치\n",
    "        y = sigmoid(v)\n",
    "\n",
    "        # 오차\n",
    "        e = ans - y\n",
    "\n",
    "        # Delta\n",
    "        delta = y * (1-y) * e\n",
    "\n",
    "        #Delta_rule\n",
    "        dw = alpha * delta * ind\n",
    "        \n",
    "        # 가중치 힙\n",
    "        w2 += dw\n",
    "\n",
    "    return(w2)"
   ]
  },
  {
   "cell_type": "code",
   "execution_count": 121,
   "id": "b0f0cff1",
   "metadata": {},
   "outputs": [
    {
     "data": {
      "text/plain": [
       "array([0.01019866, 0.0082935 , 0.99324259, 0.99168734])"
      ]
     },
     "execution_count": 121,
     "metadata": {},
     "output_type": "execute_result"
    }
   ],
   "source": [
    "# Input\n",
    "x = np.array([[0,0,1],[0,1,1],[1,0,1],[1,1,1]])\n",
    "\n",
    "# correct answer\n",
    "d = [0,0,1,1]\n",
    "\n",
    "# Weight\n",
    "w = 2 * np.random.rand(1,3) - 1\n",
    "\n",
    "for epoch in range(10000):\n",
    "    w[0] = DeltaSGD(w,x,d)\n",
    "    \n",
    "predict = np.array([])\n",
    "\n",
    "for i in range(4):\n",
    "    v = np.dot(w,x[i])\n",
    "    predict = np.append(predict, sigmoid(v))\n",
    "    \n",
    "predict"
   ]
  },
  {
   "cell_type": "markdown",
   "id": "039825a3",
   "metadata": {},
   "source": [
    "# DeltaBatch"
   ]
  },
  {
   "cell_type": "code",
   "execution_count": 231,
   "id": "201e0e0f",
   "metadata": {},
   "outputs": [],
   "source": [
    "def DeltaBatch(w1,x,d):\n",
    "    dwsum = np.array([0,0,0], float)\n",
    "    n = 4\n",
    "\n",
    "    for i in range(n):\n",
    "\n",
    "        # 입력 데이터\n",
    "        ind = x[i]\n",
    "\n",
    "        # 정답\n",
    "        ans = d[i]\n",
    "\n",
    "        # 가중치 * 입력값\n",
    "        v = np.dot(w1,ind)\n",
    "\n",
    "        # 예측치\n",
    "        y = sigmoid(v)\n",
    "\n",
    "        # 오차\n",
    "        e = ans - y\n",
    "\n",
    "        # Delta\n",
    "        delta = y * (1-y) * e\n",
    "        \n",
    "        \n",
    "        # 모든 입력 데이터의 가중치 합 구하기\n",
    "        dw = alpha * delta * x[i]\n",
    "        \n",
    "        # 가중치 힙\n",
    "        dwsum += dw\n",
    "        \n",
    "    \n",
    "    for i in range(len(w1[0])):\n",
    "        w1[0][i] += dwsum[i]/n    \n",
    "    \n",
    "\n",
    "    return(w1)\n"
   ]
  },
  {
   "cell_type": "code",
   "execution_count": 192,
   "id": "2f46ca90",
   "metadata": {},
   "outputs": [
    {
     "data": {
      "text/plain": [
       "array([0.0208393 , 0.01686528, 0.98628459, 0.98303999])"
      ]
     },
     "execution_count": 192,
     "metadata": {},
     "output_type": "execute_result"
    }
   ],
   "source": [
    "# Input\n",
    "x = np.array([[0,0,1],[0,1,1],[1,0,1],[1,1,1]])\n",
    "\n",
    "# correct answer\n",
    "d = [0,0,1,1]\n",
    "\n",
    "# Weight\n",
    "w = 2 * np.random.rand(1,3) - 1\n",
    "\n",
    "\n",
    "for epoch in range(10000):\n",
    "    w[0] = DeltaBatch(w,x,d)\n",
    "    \n",
    "predict = np.array([])\n",
    "\n",
    "for i in range(4):\n",
    "    v = np.dot(w,x[i])\n",
    "    predict = np.append(predict, sigmoid(v))\n",
    "    \n",
    "predict"
   ]
  },
  {
   "cell_type": "code",
   "execution_count": 273,
   "id": "bb0cf2ee",
   "metadata": {},
   "outputs": [
    {
     "data": {
      "image/png": "[encoded data removed]",
      "text/plain": [
       "<Figure size 432x288 with 1 Axes>"
      ]
     },
     "metadata": {
      "needs_background": "light"
     },
     "output_type": "display_data"
    }
   ],
   "source": [
    "# Input\n",
    "x = np.array([[0,0,1],[0,1,1],[1,0,1],[1,1,1]])\n",
    "\n",
    "# correct answer\n",
    "d = np.array([0,0,1,1])\n",
    "\n",
    "E1 = np.zeros(1000)\n",
    "E2 = np.zeros(1000)\n",
    "\n",
    "\n",
    "# Weight\n",
    "w1 = 2 * np.random.rand(1,3) - 1\n",
    "w2 = w1.copy()\n",
    "\n",
    "for epoch in range(1000):\n",
    "    w1[0] = DeltaSGD(w1,x,d)\n",
    "    w2[0] = DeltaBatch(w2,x,d)\n",
    "    \n",
    "    \n",
    "    es1 = 0\n",
    "    es2 = 0\n",
    "    n = 4\n",
    "    \n",
    "    for i in range(n):\n",
    "        v1 = np.dot(w1,x[i])\n",
    "        y1 = sigmoid(v1)\n",
    "        es1 += (d[i] - y1) * (d[i]- y1)\n",
    "        \n",
    "        v2 = np.dot(w2,x[i])\n",
    "        y2 = sigmoid(v2)\n",
    "        es2 += (d[i] - y2) * (d[i]- y2)\n",
    "    \n",
    "    E1[epoch] = es1 / n\n",
    "    E2[epoch] = es2 / n\n",
    "\n",
    "    \n",
    "plt.plot(range(1000), E1, range(1000), E2)\n",
    "plt.legend(['line1', 'line2'])\n",
    "plt.show()"
   ]
  },
  {
   "cell_type": "code",
   "execution_count": null,
   "id": "b5ccf614",
   "metadata": {},
   "outputs": [],
   "source": []
  }
 ],
 "metadata": {
  "kernelspec": {
   "display_name": "Python 3",
   "language": "python",
   "name": "python3"
  },
  "language_info": {
   "codemirror_mode": {
    "name": "ipython",
    "version": 3
   },
   "file_extension": ".py",
   "mimetype": "text/x-python",
   "name": "python",
   "nbconvert_exporter": "python",
   "pygments_lexer": "ipython3",
   "version": "3.8.8"
  }
 },
 "nbformat": 4,
 "nbformat_minor": 5
}
