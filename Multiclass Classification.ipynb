{
 "cells": [
  {
   "cell_type": "code",
   "execution_count": 93,
   "id": "e9fbd8af",
   "metadata": {},
   "outputs": [],
   "source": [
    "import numpy as np\n",
    "import pandas as pd\n",
    "import random\n",
    "import matplotlib.pyplot as plt\n",
    "\n",
    "def sigmoid(x):\n",
    "    y = 1 / (1 + np.exp(-x))\n",
    "    \n",
    "    return(y)\n",
    "\n",
    "def softmax(x):\n",
    "    ex = np.exp(x)\n",
    "    return ex / np.sum(ex)"
   ]
  },
  {
   "cell_type": "markdown",
   "id": "892c5863",
   "metadata": {},
   "source": [
    "# MultiClass"
   ]
  },
  {
   "cell_type": "code",
   "execution_count": 126,
   "id": "d5615bda",
   "metadata": {},
   "outputs": [],
   "source": [
    "def MultiClass(W1,W2,X,D):\n",
    "    alpha = 0.9\n",
    "    n = 5\n",
    "    for k in range(n):\n",
    "        x_k = X[:,:, k].reshape(25,1)\n",
    "        d_k = D[k,:].T\n",
    "\n",
    "        v1 = np.dot(x_k.T , W1.T)\n",
    "        y1 = sigmoid(v1)\n",
    "        v = np.dot(y1, W2.T)\n",
    "        y = softmax(v)\n",
    "\n",
    "        e = d_k - y\n",
    "        delta = e\n",
    "\n",
    "        e1 = np.dot(delta, W2)\n",
    "        delta1 = y1 * (1 - y1) * e1\n",
    "\n",
    "        dw1 = alpha * np.dot(x_k, delta1)\n",
    "        W1 = W1 + dw1.T\n",
    "\n",
    "        dw2 = alpha * np.dot(delta.T, y1)\n",
    "        W2 = W2 + dw2\n",
    "    return(W1, W2)"
   ]
  },
  {
   "cell_type": "code",
   "execution_count": 136,
   "id": "27136ca2",
   "metadata": {},
   "outputs": [
    {
     "data": {
      "text/plain": [
       "array([1., 0., 0., 0., 0., 0., 1., 0., 0., 0., 0., 0., 1., 0., 0., 0., 0.,\n",
       "       0., 1., 0., 0., 0., 0., 0., 1.])"
      ]
     },
     "execution_count": 136,
     "metadata": {},
     "output_type": "execute_result"
    }
   ],
   "source": [
    "import numpy as np\n",
    "\n",
    "X = np.zeros((5, 5, 5))\n",
    "X[:, :, 0] = np.array([[0, 1, 1, 0, 0],\n",
    "                       [0, 0, 1, 0, 0],\n",
    "                       [0, 0, 1, 0, 0],\n",
    "                       [0, 0, 1, 0, 0],\n",
    "                       [0, 1, 1, 1, 0]])\n",
    "X[:, :, 1] = np.array([[1, 1, 1, 1, 0],\n",
    "                       [0, 0, 0, 0, 1],\n",
    "                       [0, 1, 1, 1, 0],\n",
    "                       [1, 0, 0, 0, 0],\n",
    "                       [1, 1, 1, 1, 1]])\n",
    "X[:, :, 2] = np.array([[1, 1, 1, 1, 0],\n",
    "                       [0, 0, 0, 0, 1],\n",
    "                       [0, 1, 1, 1, 0],\n",
    "                       [0, 0, 0, 0, 1],\n",
    "                       [1, 1, 1, 1, 0]])\n",
    "X[:, :, 3] = np.array([[0, 0, 0, 1, 0],\n",
    "                       [0, 0, 1, 1, 0],\n",
    "                       [0, 1, 0, 1, 0],\n",
    "                       [1, 1, 1, 1, 1],\n",
    "                       [0, 0, 0, 1, 0]])\n",
    "X[:, :, 4] = np.array([[1, 1, 1, 1, 1],\n",
    "                       [1, 0, 0, 0, 0],\n",
    "                       [1, 1, 1, 1, 0],\n",
    "                       [0, 0, 0, 0, 1],\n",
    "                       [1, 1, 1, 1, 0]])\n",
    "\n",
    "D = np.eye(5)\n",
    "\n",
    "W1 = 2 * np.random.rand(50, 25) - 1\n",
    "W2 = 2 * np.random.rand(5, 50) - 1\n",
    "\n",
    "for epoch in range(10000):\n",
    "    W1, W2 = MultiClass(W1, W2, X, D)\n",
    "    \n",
    "N = 5\n",
    "predict = np.array([])\n",
    "\n",
    "for k in range(N):\n",
    "    x_k = X[:,:, k].reshape(25,1)\n",
    "    v1 = np.dot(x_k.T , W1.T)\n",
    "    y1 = sigmoid(v1)\n",
    "    v = np.dot(y1, W2.T)\n",
    "    y = softmax(v)\n",
    "    predict = np.append(predict, y)\n",
    "    \n",
    "predict"
   ]
  },
  {
   "cell_type": "code",
   "execution_count": 137,
   "id": "00a3de98",
   "metadata": {},
   "outputs": [
    {
     "data": {
      "text/plain": [
       "array([[1., 0., 0., 0., 0.],\n",
       "       [0., 1., 0., 0., 0.],\n",
       "       [0., 0., 1., 0., 0.],\n",
       "       [0., 0., 0., 1., 0.],\n",
       "       [0., 0., 0., 0., 1.]])"
      ]
     },
     "execution_count": 137,
     "metadata": {},
     "output_type": "execute_result"
    }
   ],
   "source": [
    "predict.reshape(5,5)"
   ]
  },
  {
   "cell_type": "markdown",
   "id": "2980bd7a",
   "metadata": {},
   "source": [
    "## Test MultiClass"
   ]
  },
  {
   "cell_type": "code",
   "execution_count": 138,
   "id": "7620a2d0",
   "metadata": {},
   "outputs": [
    {
     "data": {
      "text/plain": [
       "array([0. , 0. , 0. , 1. , 0. , 0. , 1. , 0. , 0. , 0. , 0. , 0. , 1. ,\n",
       "       0. , 0. , 0.1, 0.5, 0.2, 0.2, 0. , 0. , 0. , 0. , 0. , 1. ])"
      ]
     },
     "execution_count": 138,
     "metadata": {},
     "output_type": "execute_result"
    }
   ],
   "source": [
    "X = np.zeros((5, 5, 5))\n",
    "X[:, :, 0] = np.array([[0, 0, 1, 1, 0],\n",
    "                       [0, 0, 1, 1, 0],\n",
    "                       [0, 1, 0, 1, 0],\n",
    "                       [0, 0, 0, 1, 0],\n",
    "                       [0, 1, 1, 1, 0]])\n",
    "X[:, :, 1] = np.array([[1, 1, 1, 1, 0],\n",
    "                       [0, 0, 0, 0, 1],\n",
    "                       [0, 1, 1, 1, 0],\n",
    "                       [1, 0, 0, 0, 1],\n",
    "                       [1, 1, 1, 1, 1]])\n",
    "X[:, :, 2] = np.array([[1, 1, 1, 1, 0],\n",
    "                       [0, 0, 0, 0, 1],\n",
    "                       [0, 1, 1, 1, 0],\n",
    "                       [1, 0, 0, 0, 1],\n",
    "                       [1, 1, 1, 1, 0]])\n",
    "X[:, :, 3] = np.array([[0, 1, 1, 1, 0],\n",
    "                       [0, 1, 0, 0, 0],\n",
    "                       [0, 1, 1, 1, 0],\n",
    "                       [0, 0, 0, 1, 0],\n",
    "                       [0, 1, 1, 1, 0]])\n",
    "X[:, :, 4] = np.array([[0, 1, 1, 1, 1],\n",
    "                       [0, 1, 0, 0, 0],\n",
    "                       [0, 1, 1, 1, 0],\n",
    "                       [0, 0, 0, 1, 1],\n",
    "                       [1, 1, 1, 1, 0]])\n",
    "\n",
    "N = 5\n",
    "predict = np.array([])\n",
    "\n",
    "for k in range(N):\n",
    "    x_k = X[:,:, k].reshape(25,1)\n",
    "    v1 = np.dot(x_k.T , W1.T)\n",
    "    y1 = sigmoid(v1)\n",
    "    v = np.dot(y1, W2.T)\n",
    "    y = softmax(v)\n",
    "    predict = np.append(predict, y)\n",
    "    \n",
    "predict"
   ]
  },
  {
   "cell_type": "code",
   "execution_count": 139,
   "id": "c4e46d69",
   "metadata": {},
   "outputs": [
    {
     "data": {
      "text/plain": [
       "array([[0. , 0. , 0. , 1. , 0. ],\n",
       "       [0. , 1. , 0. , 0. , 0. ],\n",
       "       [0. , 0. , 1. , 0. , 0. ],\n",
       "       [0.1, 0.5, 0.2, 0.2, 0. ],\n",
       "       [0. , 0. , 0. , 0. , 1. ]])"
      ]
     },
     "execution_count": 139,
     "metadata": {},
     "output_type": "execute_result"
    }
   ],
   "source": [
    "predict.reshape(5,5)"
   ]
  },
  {
   "cell_type": "code",
   "execution_count": null,
   "id": "0a917fe7",
   "metadata": {},
   "outputs": [],
   "source": []
  }
 ],
 "metadata": {
  "kernelspec": {
   "display_name": "Python 3",
   "language": "python",
   "name": "python3"
  },
  "language_info": {
   "codemirror_mode": {
    "name": "ipython",
    "version": 3
   },
   "file_extension": ".py",
   "mimetype": "text/x-python",
   "name": "python",
   "nbconvert_exporter": "python",
   "pygments_lexer": "ipython3",
   "version": "3.8.8"
  }
 },
 "nbformat": 4,
 "nbformat_minor": 5
}
